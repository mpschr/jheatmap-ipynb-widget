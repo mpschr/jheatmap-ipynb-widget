{
 "metadata": {
  "name": "",
  "signature": "sha256:62bf9432edd37f6ccfbd6d18884750ba8a33cdbd73cfd1ea4ada7e6ee36500e7"
 },
 "nbformat": 3,
 "nbformat_minor": 0,
 "worksheets": [
  {
   "cells": [
    {
     "cell_type": "code",
     "collapsed": false,
     "input": [
      "import pandas as pd\n",
      "values_df = pd.read_csv(\"data/genomic-alterations.tsv\", sep=\"\\t\", na_values=\"-\")\n",
      "values_df.head()"
     ],
     "language": "python",
     "metadata": {},
     "outputs": [
      {
       "html": [
        "<div style=\"max-height:1000px;max-width:1500px;overflow:auto;\">\n",
        "<table border=\"1\" class=\"dataframe\">\n",
        "  <thead>\n",
        "    <tr style=\"text-align: right;\">\n",
        "      <th></th>\n",
        "      <th>samples</th>\n",
        "      <th>symbol</th>\n",
        "      <th>Mutation</th>\n",
        "      <th>CNA Status</th>\n",
        "      <th>Expression</th>\n",
        "    </tr>\n",
        "  </thead>\n",
        "  <tbody>\n",
        "    <tr>\n",
        "      <th>0</th>\n",
        "      <td> TCGA-02-0047</td>\n",
        "      <td>   ABCB1</td>\n",
        "      <td>NaN</td>\n",
        "      <td>NaN</td>\n",
        "      <td> 0.132</td>\n",
        "    </tr>\n",
        "    <tr>\n",
        "      <th>1</th>\n",
        "      <td> TCGA-02-0047</td>\n",
        "      <td>  ACVR1B</td>\n",
        "      <td>NaN</td>\n",
        "      <td>NaN</td>\n",
        "      <td> 0.078</td>\n",
        "    </tr>\n",
        "    <tr>\n",
        "      <th>2</th>\n",
        "      <td> TCGA-02-0047</td>\n",
        "      <td>   ADCY1</td>\n",
        "      <td>NaN</td>\n",
        "      <td>NaN</td>\n",
        "      <td> 0.383</td>\n",
        "    </tr>\n",
        "    <tr>\n",
        "      <th>3</th>\n",
        "      <td> TCGA-02-0047</td>\n",
        "      <td> ADORA2A</td>\n",
        "      <td>NaN</td>\n",
        "      <td>NaN</td>\n",
        "      <td>-0.209</td>\n",
        "    </tr>\n",
        "    <tr>\n",
        "      <th>4</th>\n",
        "      <td> TCGA-02-0047</td>\n",
        "      <td>  AHNAK2</td>\n",
        "      <td>NaN</td>\n",
        "      <td>NaN</td>\n",
        "      <td>-0.101</td>\n",
        "    </tr>\n",
        "  </tbody>\n",
        "</table>\n",
        "<p>5 rows \u00d7 5 columns</p>\n",
        "</div>"
       ],
       "metadata": {},
       "output_type": "pyout",
       "prompt_number": 1,
       "text": [
        "        samples   symbol  Mutation  CNA Status  Expression\n",
        "0  TCGA-02-0047    ABCB1       NaN         NaN       0.132\n",
        "1  TCGA-02-0047   ACVR1B       NaN         NaN       0.078\n",
        "2  TCGA-02-0047    ADCY1       NaN         NaN       0.383\n",
        "3  TCGA-02-0047  ADORA2A       NaN         NaN      -0.209\n",
        "4  TCGA-02-0047   AHNAK2       NaN         NaN      -0.101\n",
        "\n",
        "[5 rows x 5 columns]"
       ]
      }
     ],
     "prompt_number": 1
    },
    {
     "cell_type": "code",
     "collapsed": false,
     "input": [
      "from widget_jheatmap import JHeatmap\n",
      "jh = JHeatmap(values_df,rows=[\"samples\"],cols=[\"symbol\"])\n",
      "jh"
     ],
     "language": "python",
     "metadata": {},
     "outputs": [
      {
       "javascript": [
        "require([\"widgets/js/manager\", \"jheatmap/js/jheatmap-1.0.0.js\", \"widget_jheatmap.js\"],\n",
        "function(WidgetManager){\n",
        "    // Register the widget with the widget manager.\n",
        "    var widget = getJHeatmapWidgetInstance(WidgetManager);\n",
        "    WidgetManager.register_widget_view('JHeatmapWidget', widget);\n",
        "});"
       ],
       "metadata": {},
       "output_type": "display_data",
       "text": [
        "<IPython.core.display.Javascript at 0x7f2d8aa8cc50>"
       ]
      }
     ],
     "prompt_number": 2
    },
    {
     "cell_type": "code",
     "collapsed": false,
     "input": [
      "jh.redraw()\n"
     ],
     "language": "python",
     "metadata": {},
     "outputs": [],
     "prompt_number": 3
    },
    {
     "cell_type": "code",
     "collapsed": false,
     "input": [],
     "language": "python",
     "metadata": {},
     "outputs": []
    }
   ],
   "metadata": {}
  }
 ]
}