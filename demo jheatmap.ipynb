{
 "metadata": {
  "name": "",
  "signature": "sha256:21c072bac0bdb97525650da7a22bae2a372e4c22cb4e33723b65f47eb4c7eed0"
 },
 "nbformat": 3,
 "nbformat_minor": 0,
 "worksheets": [
  {
   "cells": [
    {
     "cell_type": "code",
     "collapsed": false,
     "input": [
      "from IPython.html import widgets\n",
      "from IPython.display import display\n",
      "from widget_jheatmap import JHeatmap, publish_js\n",
      "from widget_helloworld import HelloWidget, hello_js\n"
     ],
     "language": "python",
     "metadata": {},
     "outputs": [],
     "prompt_number": 1
    },
    {
     "cell_type": "code",
     "collapsed": false,
     "input": [
      "publish_js()"
     ],
     "language": "python",
     "metadata": {},
     "outputs": [
      {
       "javascript": [
        "require([\"widgets/js/manager\", \"jheatmap/js/jheatmap-1.0.0.js\"], function(WidgetManager, heatmap){\n",
        "    loadCSS();\n",
        "    // Define the D3ForceDirectedGraphView\n",
        "    var JHeatmapView = IPython.DOMWidgetView.extend({\n",
        "\n",
        "\t\trender: function(){\n",
        "                    \n",
        "\n",
        "                    this.$el.text(\"Hello jHeatmap!\"); \n",
        "\t\t    this.guid = 'jheatmap' + IPython.utils.uuid();\n",
        "\t\t    this.setElement($('<div />', {id: this.guid}));\n",
        "\t\t    this.model.on('msg:custom', this.on_msg, this);\n",
        "\t\t    this.has_drawn = false;\n",
        "\n",
        "\t\t    // Wait for element to be added to the DOM\n",
        "\t\t    var that = this;\n",
        "\t\t    setTimeout(function() {\n",
        "\t\t\tthat.update();\n",
        "\t\t    }, 0);\n",
        "\t\t},\n",
        "\n",
        "\n",
        "\t\ton_msg: function(content){\n",
        "\t\t    \n",
        "\t\t    var action = content.action;\n",
        "\t\t    var key = content.key;\n",
        "\n",
        "\t\t    if (action=='init') {\n",
        "\t\t       if (key == 'values') {\n",
        "\t\t       } else if (key == 'initData'){\n",
        "\t\t\t  this._inputData = content.value\n",
        "\t\t       }\n",
        "\t\t    }\n",
        "\t\t    this.update();\n",
        "\t\t},\n",
        "\n",
        "\t\tupdate: function(){\n",
        "\t\t    if (this._inputData == 'undefined' || this._values == 'undefined') {\n",
        "                         alert(\"bad update!\");\n",
        "                         return;\n",
        "                    }\n",
        "\t\t    if (!this.has_drawn) {\n",
        "\t\t\tthis.has_drawn = true;\n",
        "\t\t\tvar width = this.model.get('width'),\n",
        "\t\t\t    height = this.model.get('height');\n",
        "\t\t\t\n",
        "\t\t\tvar drawdiv = $(\"#\" + this.guid);\n",
        "\t\t\t//drawdiv.heatmap(this._inputData);\n",
        "\t\t\tdrawdiv.heatmap({data : { values : new jheatmap.readers.TableHeatmapReader({ url : \"quickstart-data.tsv\"}) }});\n",
        "\t\t    }\n",
        "\t\t    return JHeatmapView.__super__.update.apply(this);\n",
        "\t\t},\n",
        "\t});\n",
        "\n",
        "    \n",
        "    // Register the D3ForceDirectedGraphView with the widget manager.\n",
        "    WidgetManager.register_widget_view('JHeatmapView', JHeatmapView);\n",
        "});\n",
        "\n",
        "function loadCSS() {\n",
        "\tvar $ = document; // shortcut\n",
        "\tvar cssId = 'myCss';  // you could encode the css path itself to generate id..\n",
        "\tif (!$.getElementById(cssId))\n",
        "\t{\n",
        "\t    var head  = $.getElementsByTagName('head')[0];\n",
        "\t    var link  = $.createElement('link');\n",
        "\t    link.id   = cssId;\n",
        "\t    link.rel  = 'stylesheet';\n",
        "\t    link.type = 'text/css';\n",
        "\t    link.href = 'jheatmap/css/jheatmap-1.0.0.css';\n",
        "\t    link.media = 'all';\n",
        "\t    head.appendChild(link);\n",
        "\t}\n",
        "}\n",
        "\n"
       ],
       "metadata": {},
       "output_type": "display_data",
       "text": [
        "<IPython.core.display.Javascript at 0x7f03803fc510>"
       ]
      }
     ],
     "prompt_number": 2
    },
    {
     "cell_type": "code",
     "collapsed": false,
     "input": [
      "JHeatmap(\"filename\",initData={})\n"
     ],
     "language": "python",
     "metadata": {},
     "outputs": [],
     "prompt_number": 3
    },
    {
     "cell_type": "code",
     "collapsed": false,
     "input": [],
     "language": "python",
     "metadata": {},
     "outputs": [],
     "prompt_number": 6
    },
    {
     "cell_type": "code",
     "collapsed": false,
     "input": [
      "popup = widgets.PopupWidget()\n",
      "popup.description = \"JHeatmap\"\n",
      "popup.button_text = \"Render JHeatmap\"\n",
      "popup.set_css({ 'width' : '500px',\n",
      "               'height' : '350px'})\n",
      "popup.children = [instance]\n",
      "\n",
      "display(popup)"
     ],
     "language": "python",
     "metadata": {},
     "outputs": [],
     "prompt_number": 3
    },
    {
     "cell_type": "markdown",
     "metadata": {},
     "source": [
      "Hook into the random_graphs NetworkX code. "
     ]
    },
    {
     "cell_type": "code",
     "collapsed": false,
     "input": [
      "# Add a listener to the eventful graph's construction method.\n",
      "# If an eventful graph is created, build and show a widget\n",
      "# for the graph.\n",
      "popup = widgets.PopupWidget()\n",
      "popup.description = \"JHeatmap\"\n",
      "popup.button_text = \"Render JHeatmap\"\n",
      "popup.set_css({\n",
      "    'width': '700px',\n",
      "    'height': '400px'}, selector='modal')\n",
      "my_widget = JHeatmap([], initData={})\n",
      "popup.children = [my_widget]\n",
      "display(popup)\n",
      "\n",
      "# Replace the empty graph of the networkx classic module with\n",
      "# the eventful graph type.\n",
      "random_graphs.empty_graph = empty_eventfulgraph_hook(sleep=0.2)"
     ],
     "language": "python",
     "metadata": {},
     "outputs": [
      {
       "ename": "NameError",
       "evalue": "name 'empty_eventfulgraph_hook' is not defined",
       "output_type": "pyerr",
       "traceback": [
        "\u001b[1;31m---------------------------------------------------------------------------\u001b[0m\n\u001b[1;31mNameError\u001b[0m                                 Traceback (most recent call last)",
        "\u001b[1;32m<ipython-input-8-3a9b3324e526>\u001b[0m in \u001b[0;36m<module>\u001b[1;34m()\u001b[0m\n\u001b[0;32m     14\u001b[0m \u001b[1;31m# Replace the empty graph of the networkx classic module with\u001b[0m\u001b[1;33m\u001b[0m\u001b[1;33m\u001b[0m\u001b[0m\n\u001b[0;32m     15\u001b[0m \u001b[1;31m# the eventful graph type.\u001b[0m\u001b[1;33m\u001b[0m\u001b[1;33m\u001b[0m\u001b[0m\n\u001b[1;32m---> 16\u001b[1;33m \u001b[0mrandom_graphs\u001b[0m\u001b[1;33m.\u001b[0m\u001b[0mempty_graph\u001b[0m \u001b[1;33m=\u001b[0m \u001b[0mempty_eventfulgraph_hook\u001b[0m\u001b[1;33m(\u001b[0m\u001b[0msleep\u001b[0m\u001b[1;33m=\u001b[0m\u001b[1;36m0.2\u001b[0m\u001b[1;33m)\u001b[0m\u001b[1;33m\u001b[0m\u001b[0m\n\u001b[0m",
        "\u001b[1;31mNameError\u001b[0m: name 'empty_eventfulgraph_hook' is not defined"
       ]
      }
     ],
     "prompt_number": 8
    },
    {
     "cell_type": "heading",
     "level": 2,
     "metadata": {},
     "source": [
      "Barabasi Albert"
     ]
    },
    {
     "cell_type": "code",
     "collapsed": false,
     "input": [
      "random_graphs.barabasi_albert_graph(15, 1)"
     ],
     "language": "python",
     "metadata": {},
     "outputs": [
      {
       "ename": "NameError",
       "evalue": "name 'random_graphs' is not defined",
       "output_type": "pyerr",
       "traceback": [
        "\u001b[1;31m---------------------------------------------------------------------------\u001b[0m\n\u001b[1;31mNameError\u001b[0m                                 Traceback (most recent call last)",
        "\u001b[1;32m<ipython-input-5-8c8c94299cba>\u001b[0m in \u001b[0;36m<module>\u001b[1;34m()\u001b[0m\n\u001b[1;32m----> 1\u001b[1;33m \u001b[0mrandom_graphs\u001b[0m\u001b[1;33m.\u001b[0m\u001b[0mbarabasi_albert_graph\u001b[0m\u001b[1;33m(\u001b[0m\u001b[1;36m15\u001b[0m\u001b[1;33m,\u001b[0m \u001b[1;36m1\u001b[0m\u001b[1;33m)\u001b[0m\u001b[1;33m\u001b[0m\u001b[0m\n\u001b[0m",
        "\u001b[1;31mNameError\u001b[0m: name 'random_graphs' is not defined"
       ]
      }
     ],
     "prompt_number": 5
    },
    {
     "cell_type": "code",
     "collapsed": false,
     "input": [
      "random_graphs.barabasi_albert_graph(15, 2)"
     ],
     "language": "python",
     "metadata": {},
     "outputs": [
      {
       "output_type": "stream",
       "stream": "stdout",
       "text": [
        "0.2\n"
       ]
      },
      {
       "metadata": {},
       "output_type": "pyout",
       "prompt_number": 6,
       "text": [
        "<eventful_graph.EventfulGraph at 0x7f15040cc610>"
       ]
      }
     ],
     "prompt_number": 6
    },
    {
     "cell_type": "code",
     "collapsed": false,
     "input": [
      "random_graphs.barabasi_albert_graph(10, 5)"
     ],
     "language": "python",
     "metadata": {},
     "outputs": [
      {
       "output_type": "stream",
       "stream": "stdout",
       "text": [
        "0.2\n"
       ]
      },
      {
       "metadata": {},
       "output_type": "pyout",
       "prompt_number": 5,
       "text": [
        "<eventful_graph.EventfulGraph at 0x7f15040dc7d0>"
       ]
      }
     ],
     "prompt_number": 5
    },
    {
     "cell_type": "heading",
     "level": 2,
     "metadata": {},
     "source": [
      "Newman Watts Strogatz"
     ]
    },
    {
     "cell_type": "code",
     "collapsed": false,
     "input": [
      "random_graphs.newman_watts_strogatz_graph(15, 3, 0.25)"
     ],
     "language": "python",
     "metadata": {},
     "outputs": [
      {
       "output_type": "stream",
       "stream": "stdout",
       "text": [
        "0.2\n"
       ]
      },
      {
       "metadata": {},
       "output_type": "pyout",
       "prompt_number": 7,
       "text": [
        "<eventful_graph.EventfulGraph at 0x7f15040dcdd0>"
       ]
      }
     ],
     "prompt_number": 7
    },
    {
     "cell_type": "heading",
     "level": 2,
     "metadata": {},
     "source": [
      "Barbell"
     ]
    },
    {
     "cell_type": "code",
     "collapsed": false,
     "input": [
      "classic.barbell_graph(5,0,create_using=EventfulGraph(sleep=0.1))"
     ],
     "language": "python",
     "metadata": {},
     "outputs": [
      {
       "output_type": "stream",
       "stream": "stdout",
       "text": [
        "0.1\n"
       ]
      },
      {
       "metadata": {},
       "output_type": "pyout",
       "prompt_number": 8,
       "text": [
        "<eventful_graph.EventfulGraph at 0x7f15040dce50>"
       ]
      }
     ],
     "prompt_number": 8
    },
    {
     "cell_type": "heading",
     "level": 2,
     "metadata": {},
     "source": [
      "Circular Ladder"
     ]
    },
    {
     "cell_type": "code",
     "collapsed": false,
     "input": [
      "classic.circular_ladder_graph(5,create_using=EventfulGraph(sleep=0.1))"
     ],
     "language": "python",
     "metadata": {},
     "outputs": [
      {
       "output_type": "stream",
       "stream": "stdout",
       "text": [
        "0.1\n"
       ]
      },
      {
       "metadata": {},
       "output_type": "pyout",
       "prompt_number": 9,
       "text": [
        "<eventful_graph.EventfulGraph at 0x7f15040dccd0>"
       ]
      }
     ],
     "prompt_number": 9
    },
    {
     "cell_type": "code",
     "collapsed": false,
     "input": [
      "classic.circular_ladder_graph(10,create_using=EventfulGraph(sleep=0.1))"
     ],
     "language": "python",
     "metadata": {},
     "outputs": [
      {
       "output_type": "stream",
       "stream": "stdout",
       "text": [
        "0.1\n"
       ]
      },
      {
       "metadata": {},
       "output_type": "pyout",
       "prompt_number": 38,
       "text": [
        "<eventful_graph.EventfulGraph at 0x7f1ae0044090>"
       ]
      }
     ],
     "prompt_number": 38
    },
    {
     "cell_type": "heading",
     "level": 2,
     "metadata": {},
     "source": [
      "Ladder"
     ]
    },
    {
     "cell_type": "code",
     "collapsed": false,
     "input": [
      "classic.ladder_graph(10,create_using=EventfulGraph(sleep=0.1))"
     ],
     "language": "python",
     "metadata": {},
     "outputs": [
      {
       "output_type": "stream",
       "stream": "stdout",
       "text": [
        "0.1\n"
       ]
      },
      {
       "metadata": {},
       "output_type": "pyout",
       "prompt_number": 45,
       "text": [
        "<eventful_graph.EventfulGraph at 0x7f1ae05e87d0>"
       ]
      }
     ],
     "prompt_number": 45
    },
    {
     "cell_type": "heading",
     "level": 2,
     "metadata": {},
     "source": [
      "Star"
     ]
    },
    {
     "cell_type": "code",
     "collapsed": false,
     "input": [
      "classic.star_graph(10,create_using=EventfulGraph(sleep=0.1))"
     ],
     "language": "python",
     "metadata": {},
     "outputs": [
      {
       "output_type": "stream",
       "stream": "stdout",
       "text": [
        "0.1\n"
       ]
      },
      {
       "metadata": {},
       "output_type": "pyout",
       "prompt_number": 44,
       "text": [
        "<eventful_graph.EventfulGraph at 0x7f1ae0040890>"
       ]
      }
     ],
     "prompt_number": 44
    }
   ],
   "metadata": {}
  }
 ]
}