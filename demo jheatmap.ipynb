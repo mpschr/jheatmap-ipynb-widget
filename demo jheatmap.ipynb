{
 "metadata": {
  "name": "",
  "signature": "sha256:65037664823a759dd00db68457577770cd89c658b78435abe700c8b2a130d2c0"
 },
 "nbformat": 3,
 "nbformat_minor": 0,
 "worksheets": [
  {
   "cells": [
    {
     "cell_type": "code",
     "collapsed": false,
     "input": [
      "import pandas as pd\n",
      "from widget_jheatmap import JHeatmap\n",
      "\n",
      "values_df = pd.read_csv(\"data/genomic-alterations.tsv\", sep=\"\\t\", na_values=\"-\")\n",
      "print(values_df.shape)\n",
      "\n",
      "\n",
      "values_df.head()\n",
      "\n",
      "\n"
     ],
     "language": "python",
     "metadata": {},
     "outputs": [
      {
       "output_type": "stream",
       "stream": "stdout",
       "text": [
        "(14946, 5)\n"
       ]
      },
      {
       "html": [
        "<div style=\"max-height:1000px;max-width:1500px;overflow:auto;\">\n",
        "<table border=\"1\" class=\"dataframe\">\n",
        "  <thead>\n",
        "    <tr style=\"text-align: right;\">\n",
        "      <th></th>\n",
        "      <th>samples</th>\n",
        "      <th>symbol</th>\n",
        "      <th>Mutation</th>\n",
        "      <th>CNA Status</th>\n",
        "      <th>Expression</th>\n",
        "    </tr>\n",
        "  </thead>\n",
        "  <tbody>\n",
        "    <tr>\n",
        "      <th>0</th>\n",
        "      <td> TCGA-02-0047</td>\n",
        "      <td>   ABCB1</td>\n",
        "      <td>NaN</td>\n",
        "      <td>NaN</td>\n",
        "      <td> 0.132</td>\n",
        "    </tr>\n",
        "    <tr>\n",
        "      <th>1</th>\n",
        "      <td> TCGA-02-0047</td>\n",
        "      <td>  ACVR1B</td>\n",
        "      <td>NaN</td>\n",
        "      <td>NaN</td>\n",
        "      <td> 0.078</td>\n",
        "    </tr>\n",
        "    <tr>\n",
        "      <th>2</th>\n",
        "      <td> TCGA-02-0047</td>\n",
        "      <td>   ADCY1</td>\n",
        "      <td>NaN</td>\n",
        "      <td>NaN</td>\n",
        "      <td> 0.383</td>\n",
        "    </tr>\n",
        "    <tr>\n",
        "      <th>3</th>\n",
        "      <td> TCGA-02-0047</td>\n",
        "      <td> ADORA2A</td>\n",
        "      <td>NaN</td>\n",
        "      <td>NaN</td>\n",
        "      <td>-0.209</td>\n",
        "    </tr>\n",
        "    <tr>\n",
        "      <th>4</th>\n",
        "      <td> TCGA-02-0047</td>\n",
        "      <td>  AHNAK2</td>\n",
        "      <td>NaN</td>\n",
        "      <td>NaN</td>\n",
        "      <td>-0.101</td>\n",
        "    </tr>\n",
        "  </tbody>\n",
        "</table>\n",
        "<p>5 rows \u00d7 5 columns</p>\n",
        "</div>"
       ],
       "metadata": {},
       "output_type": "pyout",
       "prompt_number": 1,
       "text": [
        "        samples   symbol  Mutation  CNA Status  Expression\n",
        "0  TCGA-02-0047    ABCB1       NaN         NaN       0.132\n",
        "1  TCGA-02-0047   ACVR1B       NaN         NaN       0.078\n",
        "2  TCGA-02-0047    ADCY1       NaN         NaN       0.383\n",
        "3  TCGA-02-0047  ADORA2A       NaN         NaN      -0.209\n",
        "4  TCGA-02-0047   AHNAK2       NaN         NaN      -0.101\n",
        "\n",
        "[5 rows x 5 columns]"
       ]
      }
     ],
     "prompt_number": 1
    },
    {
     "cell_type": "code",
     "collapsed": false,
     "input": [
      "jh = JHeatmap(values_df,rows=[\"samples\"],cols=[\"symbol\"], autoshow=False)"
     ],
     "language": "python",
     "metadata": {},
     "outputs": [],
     "prompt_number": 5
    },
    {
     "cell_type": "code",
     "collapsed": false,
     "input": [
      "\n",
      "jh.show()"
     ],
     "language": "python",
     "metadata": {},
     "outputs": [
      {
       "javascript": [
        "require([\"widgets/js/manager\", \"jheatmap/js/jheatmap-1.0.0.js\", \"widget_jheatmap.js\"],\n",
        "function(WidgetManager){\n",
        "    // Register the widget with the widget manager.\n",
        "    var widget = getJHeatmapWidgetInstance(WidgetManager);\n",
        "    WidgetManager.register_widget_view('JHeatmapWidget', widget);\n",
        "});"
       ],
       "metadata": {},
       "output_type": "display_data",
       "text": [
        "<IPython.core.display.Javascript at 0x7f98d186f850>"
       ]
      },
      {
       "output_type": "stream",
       "stream": "stdout",
       "text": [
        "display!\n"
       ]
      }
     ],
     "prompt_number": 4
    },
    {
     "cell_type": "code",
     "collapsed": false,
     "input": [
      "jh.exec_js(\"heatmap.cells.decorators['Mutation'] = new jheatmap.decorators.Categorical({ \\\n",
      "                                values: ['0.0','1.0'],  \\\n",
      "                                colors : ['white','green'] \\\n",
      "                })\")\n",
      "jh.exec_js(\"heatmap.cells.reindex(heatmap)\")"
     ],
     "language": "python",
     "metadata": {},
     "outputs": [],
     "prompt_number": 5
    },
    {
     "cell_type": "code",
     "collapsed": false,
     "input": [
      "from IPython.html import widgets\n",
      "from IPython.display import display, Javascript\n",
      "\n",
      "modalJH = JHeatmap(values_df,rows=[\"symbol\"],cols=[\"samples\"])\n",
      "popup = widgets.PopupWidget()\n",
      "popup.description = \"JHeatmap\"\n",
      "popup.button_text = \"Show heatmap\"\n",
      "#popup.set_css({'width': '420px', 'height': '350px'}, selector='modal')\n",
      "popup.children = [modalJH]\n",
      "display(popup)\n"
     ],
     "language": "python",
     "metadata": {},
     "outputs": [
      {
       "javascript": [
        "require([\"widgets/js/manager\", \"jheatmap/js/jheatmap-1.0.0.js\", \"widget_jheatmap.js\"],\n",
        "function(WidgetManager){\n",
        "    // Register the widget with the widget manager.\n",
        "    var widget = getJHeatmapWidgetInstance(WidgetManager);\n",
        "    WidgetManager.register_widget_view('JHeatmapWidget', widget);\n",
        "});"
       ],
       "metadata": {},
       "output_type": "display_data",
       "text": [
        "<IPython.core.display.Javascript at 0x7f0a78e0ea90>"
       ]
      }
     ],
     "prompt_number": 15
    },
    {
     "cell_type": "code",
     "collapsed": false,
     "input": [
      "display(popup)\n"
     ],
     "language": "python",
     "metadata": {},
     "outputs": [],
     "prompt_number": 9
    },
    {
     "cell_type": "code",
     "collapsed": false,
     "input": [
      "modalJH.redraw()"
     ],
     "language": "python",
     "metadata": {},
     "outputs": [],
     "prompt_number": 13
    },
    {
     "cell_type": "code",
     "collapsed": false,
     "input": [
      "popup.widgets"
     ],
     "language": "python",
     "metadata": {},
     "outputs": [
      {
       "metadata": {},
       "output_type": "pyout",
       "prompt_number": 12,
       "text": [
        "{'8dd01016b778419e8e80d2a579c9855e': <IPython.html.widgets.widget_container.PopupWidget at 0x7f0a78e1f050>,\n",
        " 'b1fb0fbcc292449dae6129f47ea44815': <widget_jheatmap.JHeatmap at 0x7f0a5b0b1c10>,\n",
        " '3ab921ebc9e945aaa9d69512d8923bac': <IPython.html.widgets.widget_container.PopupWidget at 0x7f0a5b0b9090>,\n",
        " 'e6676db9627a4489bc813f62346c5bbe': <widget_jheatmap.JHeatmap at 0x7f0a78dfd510>}"
       ]
      }
     ],
     "prompt_number": 12
    },
    {
     "cell_type": "code",
     "collapsed": false,
     "input": [
      "from IPython.html import widgets\n",
      "from IPython.display import display, Javascript"
     ],
     "language": "python",
     "metadata": {},
     "outputs": [],
     "prompt_number": 10
    },
    {
     "cell_type": "code",
     "collapsed": false,
     "input": [
      "jhp = JHeatmap(values_df,rows=[\"samples\"],cols=[\"symbol\"], autoshow=False)\n",
      "popup = widgets.PopupWidget()\n",
      "popup.children=[jhp]"
     ],
     "language": "python",
     "metadata": {},
     "outputs": [],
     "prompt_number": 11
    },
    {
     "cell_type": "code",
     "collapsed": false,
     "input": [
      "display(popup)"
     ],
     "language": "python",
     "metadata": {},
     "outputs": [],
     "prompt_number": 12
    },
    {
     "cell_type": "code",
     "collapsed": false,
     "input": [],
     "language": "python",
     "metadata": {},
     "outputs": []
    }
   ],
   "metadata": {}
  }
 ]
}