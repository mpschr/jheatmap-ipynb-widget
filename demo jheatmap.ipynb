{
 "metadata": {
  "name": "",
  "signature": "sha256:4f491c13ab1ef1f89395dd5b1835169e7e8263cb2077a3c2646306ee65a35996"
 },
 "nbformat": 3,
 "nbformat_minor": 0,
 "worksheets": [
  {
   "cells": [
    {
     "cell_type": "code",
     "collapsed": false,
     "input": [
      "from widget_jheatmap import JHeatmap\n"
     ],
     "language": "python",
     "metadata": {},
     "outputs": [],
     "prompt_number": 1
    },
    {
     "cell_type": "code",
     "collapsed": false,
     "input": [
      "JHeatmap(\"filename\",initData={})\n"
     ],
     "language": "python",
     "metadata": {},
     "outputs": [
      {
       "javascript": [
        "require([\"widgets/js/manager\", \"jheatmap/js/jheatmap-1.0.0.js\"], function(WidgetManager, heatmap){\n",
        "    loadCSS();\n",
        "\n",
        "    debugger;\n",
        "\n",
        "    // Define the D3ForceDirectedGraphView\n",
        "    var JHeatmapView = IPython.DOMWidgetView.extend({\n",
        "\n",
        "\t\trender: function(){\n",
        "                    \n",
        "\n",
        "                    this.$el.text(\"Hello jHeatmap!\"); \n",
        "\t\t    this.guid = 'jheatmap' + IPython.utils.uuid();\n",
        "\t\t    this.setElement($('<div />', {id: this.guid}));\n",
        "\t\t    this.model.on('msg:custom', this.on_msg, this);\n",
        "\t\t    this.has_drawn = false;\n",
        "\n",
        "\t\t    // Wait for element to be added to the DOM\n",
        "\t\t    var that = this;\n",
        "\t\t    setTimeout(function() {\n",
        "\t\t\tthat.update();\n",
        "\t\t    }, 0);\n",
        "\t\t},\n",
        "\n",
        "\n",
        "\t\ton_msg: function(content){\n",
        "\t\t    \n",
        "\t\t    var action = content.action;\n",
        "\t\t    var key = content.key;\n",
        "\n",
        "\t\t    if (action=='init') {\n",
        "\t\t       if (key == 'values') {\n",
        "\t\t       } else if (key == 'initData'){\n",
        "\t\t\t  this._inputData = content.value\n",
        "\t\t       }\n",
        "\t\t    }\n",
        "\t\t    this.update();\n",
        "\t\t},\n",
        "\n",
        "\t\tupdate: function(){\n",
        "\t\t    if (this._inputData == 'undefined' || this._values == 'undefined') {\n",
        "                         alert(\"bad update!\");\n",
        "                         return;\n",
        "                    }\n",
        "\t\t    if (!this.has_drawn) {\n",
        "\t\t\tthis.has_drawn = true;\n",
        "\t\t\tvar width = this.model.get('width'),\n",
        "\t\t\t    height = this.model.get('height');\n",
        "\t\t\t\n",
        "\t\t\tvar drawdiv = $(\"#\" + this.guid);\n",
        "\t\t\tvar options = eval(\"({data : { values : new jheatmap.readers.TableHeatmapReader( { url : 'data/genomic-alterations.tsv'} ) }})\");\n",
        "\t\t\tdrawdiv.heatmap(options);\n",
        "\t\t    }\n",
        "\t\t    return JHeatmapView.__super__.update.apply(this);\n",
        "\t\t},\n",
        "\t});\n",
        "\n",
        "    \n",
        "    // Register the D3ForceDirectedGraphView with the widget manager.\n",
        "    WidgetManager.register_widget_view('JHeatmapView', JHeatmapView);\n",
        "});\n",
        "\n",
        "function loadCSS() {\n",
        "\tvar $ = document; // shortcut\n",
        "\tvar cssId = 'myCss';  // you could encode the css path itself to generate id..\n",
        "\tif (!$.getElementById(cssId))\n",
        "\t{\n",
        "\t    var head  = $.getElementsByTagName('head')[0];\n",
        "\t    var link  = $.createElement('link');\n",
        "\t    link.id   = cssId;\n",
        "\t    link.rel  = 'stylesheet';\n",
        "\t    link.type = 'text/css';\n",
        "\t    link.href = 'jheatmap/css/jheatmap-1.0.0.css';\n",
        "\t    link.media = 'all';\n",
        "\t    head.appendChild(link);\n",
        "\t}\n",
        "}\n",
        "\n"
       ],
       "metadata": {},
       "output_type": "display_data",
       "text": [
        "<IPython.core.display.Javascript at 0x7f6f1d4cde90>"
       ]
      }
     ],
     "prompt_number": 2
    },
    {
     "cell_type": "code",
     "collapsed": false,
     "input": [
      "from IPython.display import Javascript\n",
      "help(Javascript)"
     ],
     "language": "python",
     "metadata": {},
     "outputs": [
      {
       "output_type": "stream",
       "stream": "stdout",
       "text": [
        "Help on class Javascript in module IPython.core.display:\n",
        "\n",
        "class Javascript(TextDisplayObject)\n",
        " |  Method resolution order:\n",
        " |      Javascript\n",
        " |      TextDisplayObject\n",
        " |      DisplayObject\n",
        " |      builtins.object\n",
        " |  \n",
        " |  Methods defined here:\n",
        " |  \n",
        " |  __init__(self, data=None, url=None, filename=None, lib=None, css=None)\n",
        " |      Create a Javascript display object given raw data.\n",
        " |      \n",
        " |      When this object is returned by an expression or passed to the\n",
        " |      display function, it will result in the data being displayed\n",
        " |      in the frontend. If the data is a URL, the data will first be\n",
        " |      downloaded and then displayed.\n",
        " |      \n",
        " |      In the Notebook, the containing element will be available as `element`,\n",
        " |      and jQuery will be available.  The output area starts hidden, so if\n",
        " |      the js appends content to `element` that should be visible, then\n",
        " |      it must call `container.show()` to unhide the area.\n",
        " |      \n",
        " |      Parameters\n",
        " |      ----------\n",
        " |      data : unicode, str or bytes\n",
        " |          The Javascript source code or a URL to download it from.\n",
        " |      url : unicode\n",
        " |          A URL to download the data from.\n",
        " |      filename : unicode\n",
        " |          Path to a local file to load the data from.\n",
        " |      lib : list or str\n",
        " |          A sequence of Javascript library URLs to load asynchronously before\n",
        " |          running the source code. The full URLs of the libraries should\n",
        " |          be given. A single Javascript library URL can also be given as a\n",
        " |          string.\n",
        " |      css: : list or str\n",
        " |          A sequence of css files to load before running the source code.\n",
        " |          The full URLs of the css files should be given. A single css URL\n",
        " |          can also be given as a string.\n",
        " |  \n",
        " |  ----------------------------------------------------------------------\n",
        " |  Methods inherited from DisplayObject:\n",
        " |  \n",
        " |  reload(self)\n",
        " |      Reload the raw data from file or URL.\n",
        " |  \n",
        " |  ----------------------------------------------------------------------\n",
        " |  Data descriptors inherited from DisplayObject:\n",
        " |  \n",
        " |  __dict__\n",
        " |      dictionary for instance variables (if defined)\n",
        " |  \n",
        " |  __weakref__\n",
        " |      list of weak references to the object (if defined)\n",
        "\n"
       ]
      }
     ],
     "prompt_number": 4
    },
    {
     "cell_type": "code",
     "collapsed": false,
     "input": [
      "popup = widgets.PopupWidget()\n",
      "popup.description = \"JHeatmap\"\n",
      "popup.button_text = \"Render JHeatmap\"\n",
      "popup.set_css({ 'width' : '500px',\n",
      "               'height' : '350px'})\n",
      "popup.children = [instance]\n",
      "\n",
      "display(popup)"
     ],
     "language": "python",
     "metadata": {},
     "outputs": [],
     "prompt_number": 3
    },
    {
     "cell_type": "markdown",
     "metadata": {},
     "source": [
      "Hook into the random_graphs NetworkX code. "
     ]
    }
   ],
   "metadata": {}
  }
 ]
}